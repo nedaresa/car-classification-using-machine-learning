{
 "cells": [
  {
   "cell_type": "markdown",
   "metadata": {},
   "source": [
    "## Exploratory Data Analysis "
   ]
  },
  {
   "cell_type": "code",
   "execution_count": 2,
   "metadata": {},
   "outputs": [],
   "source": [
    "import pandas as pd\n",
    "import numpy as np\n",
    "import matplotlib.pyplot as plt\n",
    "%matplotlib inline\n",
    "import pickle\n",
    "import functions as fn\n",
    "from sklearn.model_selection import train_test_split\n",
    "from sklearn.preprocessing import OneHotEncoder"
   ]
  },
  {
   "cell_type": "code",
   "execution_count": 3,
   "metadata": {},
   "outputs": [],
   "source": [
    "car_df = pd.read_csv('data/cardataset.zip')"
   ]
  },
  {
   "cell_type": "code",
   "execution_count": 4,
   "metadata": {},
   "outputs": [
    {
     "data": {
      "text/plain": [
       "(11914, 16)"
      ]
     },
     "execution_count": 4,
     "metadata": {},
     "output_type": "execute_result"
    }
   ],
   "source": [
    "car_df.shape"
   ]
  },
  {
   "cell_type": "code",
   "execution_count": 5,
   "metadata": {},
   "outputs": [
    {
     "data": {
      "text/html": [
       "<div>\n",
       "<style scoped>\n",
       "    .dataframe tbody tr th:only-of-type {\n",
       "        vertical-align: middle;\n",
       "    }\n",
       "\n",
       "    .dataframe tbody tr th {\n",
       "        vertical-align: top;\n",
       "    }\n",
       "\n",
       "    .dataframe thead th {\n",
       "        text-align: right;\n",
       "    }\n",
       "</style>\n",
       "<table border=\"1\" class=\"dataframe\">\n",
       "  <thead>\n",
       "    <tr style=\"text-align: right;\">\n",
       "      <th></th>\n",
       "      <th>Make</th>\n",
       "      <th>Model</th>\n",
       "      <th>Year</th>\n",
       "      <th>Engine Fuel Type</th>\n",
       "      <th>Engine HP</th>\n",
       "      <th>Engine Cylinders</th>\n",
       "      <th>Transmission Type</th>\n",
       "      <th>Driven_Wheels</th>\n",
       "      <th>Number of Doors</th>\n",
       "      <th>Market Category</th>\n",
       "      <th>Vehicle Size</th>\n",
       "      <th>Vehicle Style</th>\n",
       "      <th>highway MPG</th>\n",
       "      <th>city mpg</th>\n",
       "      <th>Popularity</th>\n",
       "      <th>MSRP</th>\n",
       "    </tr>\n",
       "  </thead>\n",
       "  <tbody>\n",
       "    <tr>\n",
       "      <th>0</th>\n",
       "      <td>BMW</td>\n",
       "      <td>1 Series M</td>\n",
       "      <td>2011</td>\n",
       "      <td>premium unleaded (required)</td>\n",
       "      <td>335.0</td>\n",
       "      <td>6.0</td>\n",
       "      <td>MANUAL</td>\n",
       "      <td>rear wheel drive</td>\n",
       "      <td>2.0</td>\n",
       "      <td>Factory Tuner,Luxury,High-Performance</td>\n",
       "      <td>Compact</td>\n",
       "      <td>Coupe</td>\n",
       "      <td>26</td>\n",
       "      <td>19</td>\n",
       "      <td>3916</td>\n",
       "      <td>46135</td>\n",
       "    </tr>\n",
       "    <tr>\n",
       "      <th>1</th>\n",
       "      <td>BMW</td>\n",
       "      <td>1 Series</td>\n",
       "      <td>2011</td>\n",
       "      <td>premium unleaded (required)</td>\n",
       "      <td>300.0</td>\n",
       "      <td>6.0</td>\n",
       "      <td>MANUAL</td>\n",
       "      <td>rear wheel drive</td>\n",
       "      <td>2.0</td>\n",
       "      <td>Luxury,Performance</td>\n",
       "      <td>Compact</td>\n",
       "      <td>Convertible</td>\n",
       "      <td>28</td>\n",
       "      <td>19</td>\n",
       "      <td>3916</td>\n",
       "      <td>40650</td>\n",
       "    </tr>\n",
       "    <tr>\n",
       "      <th>2</th>\n",
       "      <td>BMW</td>\n",
       "      <td>1 Series</td>\n",
       "      <td>2011</td>\n",
       "      <td>premium unleaded (required)</td>\n",
       "      <td>300.0</td>\n",
       "      <td>6.0</td>\n",
       "      <td>MANUAL</td>\n",
       "      <td>rear wheel drive</td>\n",
       "      <td>2.0</td>\n",
       "      <td>Luxury,High-Performance</td>\n",
       "      <td>Compact</td>\n",
       "      <td>Coupe</td>\n",
       "      <td>28</td>\n",
       "      <td>20</td>\n",
       "      <td>3916</td>\n",
       "      <td>36350</td>\n",
       "    </tr>\n",
       "    <tr>\n",
       "      <th>3</th>\n",
       "      <td>BMW</td>\n",
       "      <td>1 Series</td>\n",
       "      <td>2011</td>\n",
       "      <td>premium unleaded (required)</td>\n",
       "      <td>230.0</td>\n",
       "      <td>6.0</td>\n",
       "      <td>MANUAL</td>\n",
       "      <td>rear wheel drive</td>\n",
       "      <td>2.0</td>\n",
       "      <td>Luxury,Performance</td>\n",
       "      <td>Compact</td>\n",
       "      <td>Coupe</td>\n",
       "      <td>28</td>\n",
       "      <td>18</td>\n",
       "      <td>3916</td>\n",
       "      <td>29450</td>\n",
       "    </tr>\n",
       "    <tr>\n",
       "      <th>4</th>\n",
       "      <td>BMW</td>\n",
       "      <td>1 Series</td>\n",
       "      <td>2011</td>\n",
       "      <td>premium unleaded (required)</td>\n",
       "      <td>230.0</td>\n",
       "      <td>6.0</td>\n",
       "      <td>MANUAL</td>\n",
       "      <td>rear wheel drive</td>\n",
       "      <td>2.0</td>\n",
       "      <td>Luxury</td>\n",
       "      <td>Compact</td>\n",
       "      <td>Convertible</td>\n",
       "      <td>28</td>\n",
       "      <td>18</td>\n",
       "      <td>3916</td>\n",
       "      <td>34500</td>\n",
       "    </tr>\n",
       "  </tbody>\n",
       "</table>\n",
       "</div>"
      ],
      "text/plain": [
       "  Make       Model  Year             Engine Fuel Type  Engine HP  \\\n",
       "0  BMW  1 Series M  2011  premium unleaded (required)      335.0   \n",
       "1  BMW    1 Series  2011  premium unleaded (required)      300.0   \n",
       "2  BMW    1 Series  2011  premium unleaded (required)      300.0   \n",
       "3  BMW    1 Series  2011  premium unleaded (required)      230.0   \n",
       "4  BMW    1 Series  2011  premium unleaded (required)      230.0   \n",
       "\n",
       "   Engine Cylinders Transmission Type     Driven_Wheels  Number of Doors  \\\n",
       "0               6.0            MANUAL  rear wheel drive              2.0   \n",
       "1               6.0            MANUAL  rear wheel drive              2.0   \n",
       "2               6.0            MANUAL  rear wheel drive              2.0   \n",
       "3               6.0            MANUAL  rear wheel drive              2.0   \n",
       "4               6.0            MANUAL  rear wheel drive              2.0   \n",
       "\n",
       "                         Market Category Vehicle Size Vehicle Style  \\\n",
       "0  Factory Tuner,Luxury,High-Performance      Compact         Coupe   \n",
       "1                     Luxury,Performance      Compact   Convertible   \n",
       "2                Luxury,High-Performance      Compact         Coupe   \n",
       "3                     Luxury,Performance      Compact         Coupe   \n",
       "4                                 Luxury      Compact   Convertible   \n",
       "\n",
       "   highway MPG  city mpg  Popularity   MSRP  \n",
       "0           26        19        3916  46135  \n",
       "1           28        19        3916  40650  \n",
       "2           28        20        3916  36350  \n",
       "3           28        18        3916  29450  \n",
       "4           28        18        3916  34500  "
      ]
     },
     "execution_count": 5,
     "metadata": {},
     "output_type": "execute_result"
    }
   ],
   "source": [
    "car_df.head()"
   ]
  },
  {
   "cell_type": "code",
   "execution_count": 6,
   "metadata": {},
   "outputs": [
    {
     "data": {
      "text/plain": [
       "Make                    0\n",
       "Model                   0\n",
       "Year                    0\n",
       "Engine Fuel Type        3\n",
       "Engine HP              69\n",
       "Engine Cylinders       30\n",
       "Transmission Type       0\n",
       "Driven_Wheels           0\n",
       "Number of Doors         6\n",
       "Market Category      3742\n",
       "Vehicle Size            0\n",
       "Vehicle Style           0\n",
       "highway MPG             0\n",
       "city mpg                0\n",
       "Popularity              0\n",
       "MSRP                    0\n",
       "dtype: int64"
      ]
     },
     "execution_count": 6,
     "metadata": {},
     "output_type": "execute_result"
    }
   ],
   "source": [
    "car_df.isna().sum()"
   ]
  },
  {
   "cell_type": "markdown",
   "metadata": {},
   "source": [
    "subsetting the dataset to 7920 rows from 11914 total rows"
   ]
  },
  {
   "cell_type": "code",
   "execution_count": 7,
   "metadata": {},
   "outputs": [
    {
     "name": "stdout",
     "output_type": "stream",
     "text": [
      "<class 'pandas.core.frame.DataFrame'>\n",
      "RangeIndex: 11914 entries, 0 to 11913\n",
      "Data columns (total 16 columns):\n",
      "Make                 11914 non-null object\n",
      "Model                11914 non-null object\n",
      "Year                 11914 non-null int64\n",
      "Engine Fuel Type     11911 non-null object\n",
      "Engine HP            11845 non-null float64\n",
      "Engine Cylinders     11884 non-null float64\n",
      "Transmission Type    11914 non-null object\n",
      "Driven_Wheels        11914 non-null object\n",
      "Number of Doors      11908 non-null float64\n",
      "Market Category      8172 non-null object\n",
      "Vehicle Size         11914 non-null object\n",
      "Vehicle Style        11914 non-null object\n",
      "highway MPG          11914 non-null int64\n",
      "city mpg             11914 non-null int64\n",
      "Popularity           11914 non-null int64\n",
      "MSRP                 11914 non-null int64\n",
      "dtypes: float64(3), int64(5), object(8)\n",
      "memory usage: 1.5+ MB\n"
     ]
    }
   ],
   "source": [
    "car_df.info()"
   ]
  },
  {
   "cell_type": "code",
   "execution_count": 8,
   "metadata": {},
   "outputs": [],
   "source": [
    "# plt.hist(car_df['Year']);\n",
    "car_df1 = car_df.loc[car_df['Year'] > 2009]"
   ]
  },
  {
   "cell_type": "code",
   "execution_count": 9,
   "metadata": {},
   "outputs": [
    {
     "data": {
      "text/plain": [
       "Make                    0\n",
       "Model                   0\n",
       "Year                    0\n",
       "Engine Fuel Type        0\n",
       "Engine HP              63\n",
       "Engine Cylinders       20\n",
       "Transmission Type       0\n",
       "Driven_Wheels           0\n",
       "Number of Doors         6\n",
       "Market Category      1642\n",
       "Vehicle Size            0\n",
       "Vehicle Style           0\n",
       "highway MPG             0\n",
       "city mpg                0\n",
       "Popularity              0\n",
       "MSRP                    0\n",
       "dtype: int64"
      ]
     },
     "execution_count": 9,
     "metadata": {},
     "output_type": "execute_result"
    }
   ],
   "source": [
    "car_df1.isna().sum()"
   ]
  },
  {
   "cell_type": "code",
   "execution_count": 10,
   "metadata": {},
   "outputs": [
    {
     "name": "stderr",
     "output_type": "stream",
     "text": [
      "/Users/Erica/anaconda3/envs/learn-env/lib/python3.6/site-packages/ipykernel_launcher.py:1: SettingWithCopyWarning: \n",
      "A value is trying to be set on a copy of a slice from a DataFrame\n",
      "\n",
      "See the caveats in the documentation: http://pandas.pydata.org/pandas-docs/stable/indexing.html#indexing-view-versus-copy\n",
      "  \"\"\"Entry point for launching an IPython kernel.\n"
     ]
    }
   ],
   "source": [
    "car_df1.dropna(subset=['Number of Doors'], axis=0, inplace=True)"
   ]
  },
  {
   "cell_type": "code",
   "execution_count": 11,
   "metadata": {},
   "outputs": [
    {
     "name": "stderr",
     "output_type": "stream",
     "text": [
      "/Users/Erica/anaconda3/envs/learn-env/lib/python3.6/site-packages/ipykernel_launcher.py:1: SettingWithCopyWarning: \n",
      "A value is trying to be set on a copy of a slice from a DataFrame\n",
      "\n",
      "See the caveats in the documentation: http://pandas.pydata.org/pandas-docs/stable/indexing.html#indexing-view-versus-copy\n",
      "  \"\"\"Entry point for launching an IPython kernel.\n"
     ]
    }
   ],
   "source": [
    "car_df1.dropna(subset=['Engine HP'], axis=0, inplace=True)"
   ]
  },
  {
   "cell_type": "code",
   "execution_count": 12,
   "metadata": {},
   "outputs": [
    {
     "data": {
      "text/plain": [
       "Make                    0\n",
       "Model                   0\n",
       "Year                    0\n",
       "Engine Fuel Type        0\n",
       "Engine HP               0\n",
       "Engine Cylinders       19\n",
       "Transmission Type       0\n",
       "Driven_Wheels           0\n",
       "Number of Doors         0\n",
       "Market Category      1637\n",
       "Vehicle Size            0\n",
       "Vehicle Style           0\n",
       "highway MPG             0\n",
       "city mpg                0\n",
       "Popularity              0\n",
       "MSRP                    0\n",
       "dtype: int64"
      ]
     },
     "execution_count": 12,
     "metadata": {},
     "output_type": "execute_result"
    }
   ],
   "source": [
    "car_df1.isna().sum()"
   ]
  },
  {
   "cell_type": "code",
   "execution_count": 14,
   "metadata": {},
   "outputs": [
    {
     "name": "stderr",
     "output_type": "stream",
     "text": [
      "/Users/Erica/anaconda3/envs/learn-env/lib/python3.6/site-packages/pandas/core/indexing.py:543: SettingWithCopyWarning: \n",
      "A value is trying to be set on a copy of a slice from a DataFrame.\n",
      "Try using .loc[row_indexer,col_indexer] = value instead\n",
      "\n",
      "See the caveats in the documentation: http://pandas.pydata.org/pandas-docs/stable/indexing.html#indexing-view-versus-copy\n",
      "  self.obj[item] = s\n"
     ]
    }
   ],
   "source": [
    "car_df1.loc[car_df1['Engine Cylinders'].isna()] = car_df1.loc[car_df1['Engine Cylinders'].isna()].fillna(0)"
   ]
  },
  {
   "cell_type": "code",
   "execution_count": 15,
   "metadata": {},
   "outputs": [
    {
     "data": {
      "text/plain": [
       "Make                    0\n",
       "Model                   0\n",
       "Year                    0\n",
       "Engine Fuel Type        0\n",
       "Engine HP               0\n",
       "Engine Cylinders        0\n",
       "Transmission Type       0\n",
       "Driven_Wheels           0\n",
       "Number of Doors         0\n",
       "Market Category      1637\n",
       "Vehicle Size            0\n",
       "Vehicle Style           0\n",
       "highway MPG             0\n",
       "city mpg                0\n",
       "Popularity              0\n",
       "MSRP                    0\n",
       "dtype: int64"
      ]
     },
     "execution_count": 15,
     "metadata": {},
     "output_type": "execute_result"
    }
   ],
   "source": [
    "car_df1.isna().sum()"
   ]
  },
  {
   "cell_type": "code",
   "execution_count": 19,
   "metadata": {},
   "outputs": [
    {
     "data": {
      "text/plain": [
       "Toyota        328\n",
       "Nissan        197\n",
       "Chevrolet     174\n",
       "Volkswagen    170\n",
       "Honda         139\n",
       "Ford          124\n",
       "GMC            76\n",
       "Suzuki         68\n",
       "Hyundai        62\n",
       "Kia            59\n",
       "Dodge          56\n",
       "Mazda          44\n",
       "Mitsubishi     30\n",
       "Subaru         30\n",
       "Chrysler       29\n",
       "FIAT           21\n",
       "Buick          17\n",
       "Scion          12\n",
       "Pontiac         1\n",
       "Name: Make, dtype: int64"
      ]
     },
     "execution_count": 19,
     "metadata": {},
     "output_type": "execute_result"
    }
   ],
   "source": [
    "car_df1.loc[car_df1['Market Category'].isna()]['Make'].value_counts()"
   ]
  },
  {
   "cell_type": "code",
   "execution_count": 20,
   "metadata": {},
   "outputs": [
    {
     "name": "stdout",
     "output_type": "stream",
     "text": [
      "<class 'pandas.core.frame.DataFrame'>\n",
      "Int64Index: 7856 entries, 0 to 11912\n",
      "Data columns (total 16 columns):\n",
      "Make                 7856 non-null object\n",
      "Model                7856 non-null object\n",
      "Year                 7856 non-null int64\n",
      "Engine Fuel Type     7856 non-null object\n",
      "Engine HP            7856 non-null float64\n",
      "Engine Cylinders     7856 non-null float64\n",
      "Transmission Type    7856 non-null object\n",
      "Driven_Wheels        7856 non-null object\n",
      "Number of Doors      7856 non-null float64\n",
      "Market Category      6219 non-null object\n",
      "Vehicle Size         7856 non-null object\n",
      "Vehicle Style        7856 non-null object\n",
      "highway MPG          7856 non-null int64\n",
      "city mpg             7856 non-null int64\n",
      "Popularity           7856 non-null int64\n",
      "MSRP                 7856 non-null int64\n",
      "dtypes: float64(3), int64(5), object(8)\n",
      "memory usage: 1.0+ MB\n"
     ]
    }
   ],
   "source": [
    "car_df1.info()"
   ]
  },
  {
   "cell_type": "code",
   "execution_count": 21,
   "metadata": {},
   "outputs": [
    {
     "name": "stderr",
     "output_type": "stream",
     "text": [
      "/Users/Erica/anaconda3/envs/learn-env/lib/python3.6/site-packages/ipykernel_launcher.py:1: SettingWithCopyWarning: \n",
      "A value is trying to be set on a copy of a slice from a DataFrame\n",
      "\n",
      "See the caveats in the documentation: http://pandas.pydata.org/pandas-docs/stable/indexing.html#indexing-view-versus-copy\n",
      "  \"\"\"Entry point for launching an IPython kernel.\n"
     ]
    }
   ],
   "source": [
    "car_df1.dropna(axis=0, inplace=True)"
   ]
  },
  {
   "cell_type": "code",
   "execution_count": 22,
   "metadata": {},
   "outputs": [
    {
     "name": "stdout",
     "output_type": "stream",
     "text": [
      "<class 'pandas.core.frame.DataFrame'>\n",
      "Int64Index: 6219 entries, 0 to 11912\n",
      "Data columns (total 16 columns):\n",
      "Make                 6219 non-null object\n",
      "Model                6219 non-null object\n",
      "Year                 6219 non-null int64\n",
      "Engine Fuel Type     6219 non-null object\n",
      "Engine HP            6219 non-null float64\n",
      "Engine Cylinders     6219 non-null float64\n",
      "Transmission Type    6219 non-null object\n",
      "Driven_Wheels        6219 non-null object\n",
      "Number of Doors      6219 non-null float64\n",
      "Market Category      6219 non-null object\n",
      "Vehicle Size         6219 non-null object\n",
      "Vehicle Style        6219 non-null object\n",
      "highway MPG          6219 non-null int64\n",
      "city mpg             6219 non-null int64\n",
      "Popularity           6219 non-null int64\n",
      "MSRP                 6219 non-null int64\n",
      "dtypes: float64(3), int64(5), object(8)\n",
      "memory usage: 826.0+ KB\n"
     ]
    }
   ],
   "source": [
    "car_df1.info()"
   ]
  },
  {
   "cell_type": "code",
   "execution_count": 23,
   "metadata": {},
   "outputs": [
    {
     "data": {
      "text/plain": [
       "241"
      ]
     },
     "execution_count": 23,
     "metadata": {},
     "output_type": "execute_result"
    }
   ],
   "source": [
    "car_df1.duplicated().sum()"
   ]
  },
  {
   "cell_type": "code",
   "execution_count": 24,
   "metadata": {},
   "outputs": [
    {
     "name": "stderr",
     "output_type": "stream",
     "text": [
      "/Users/Erica/anaconda3/envs/learn-env/lib/python3.6/site-packages/ipykernel_launcher.py:1: SettingWithCopyWarning: \n",
      "A value is trying to be set on a copy of a slice from a DataFrame\n",
      "\n",
      "See the caveats in the documentation: http://pandas.pydata.org/pandas-docs/stable/indexing.html#indexing-view-versus-copy\n",
      "  \"\"\"Entry point for launching an IPython kernel.\n"
     ]
    }
   ],
   "source": [
    "car_df1.drop_duplicates(inplace=True)"
   ]
  },
  {
   "cell_type": "code",
   "execution_count": 25,
   "metadata": {},
   "outputs": [
    {
     "name": "stdout",
     "output_type": "stream",
     "text": [
      "<class 'pandas.core.frame.DataFrame'>\n",
      "Int64Index: 5978 entries, 0 to 11912\n",
      "Data columns (total 16 columns):\n",
      "Make                 5978 non-null object\n",
      "Model                5978 non-null object\n",
      "Year                 5978 non-null int64\n",
      "Engine Fuel Type     5978 non-null object\n",
      "Engine HP            5978 non-null float64\n",
      "Engine Cylinders     5978 non-null float64\n",
      "Transmission Type    5978 non-null object\n",
      "Driven_Wheels        5978 non-null object\n",
      "Number of Doors      5978 non-null float64\n",
      "Market Category      5978 non-null object\n",
      "Vehicle Size         5978 non-null object\n",
      "Vehicle Style        5978 non-null object\n",
      "highway MPG          5978 non-null int64\n",
      "city mpg             5978 non-null int64\n",
      "Popularity           5978 non-null int64\n",
      "MSRP                 5978 non-null int64\n",
      "dtypes: float64(3), int64(5), object(8)\n",
      "memory usage: 794.0+ KB\n"
     ]
    }
   ],
   "source": [
    "car_df1.info()"
   ]
  },
  {
   "cell_type": "code",
   "execution_count": 28,
   "metadata": {},
   "outputs": [],
   "source": [
    "# with open('car_df1.pickle', 'wb') as f:\n",
    "#     pickle.dump(car_df1, f, pickle.HIGHEST_PROTOCOL)"
   ]
  },
  {
   "cell_type": "markdown",
   "metadata": {},
   "source": [
    "create a new column to assign carmaker origin to each row "
   ]
  },
  {
   "cell_type": "code",
   "execution_count": 29,
   "metadata": {},
   "outputs": [],
   "source": [
    "with open('make_origin.pickle', 'rb') as f:\n",
    "    make_origin_dict = pickle.load(f)"
   ]
  },
  {
   "cell_type": "code",
   "execution_count": 30,
   "metadata": {},
   "outputs": [
    {
     "data": {
      "text/plain": [
       "{'BMW': 'Germany',\n",
       " 'FIAT': 'Italy',\n",
       " 'Chrysler': 'USA',\n",
       " 'Mazda': 'Japan',\n",
       " 'Nissan': 'Japan',\n",
       " 'Ferrari': 'Italy',\n",
       " 'Alfa Romeo': 'Italy',\n",
       " 'McLaren': 'UK',\n",
       " 'Maybach': 'Germany',\n",
       " 'Porsche': 'Germany',\n",
       " 'Toyota': 'Japan',\n",
       " 'Saab': 'Sweden',\n",
       " 'Audi': 'Germany',\n",
       " 'GMC': 'USA',\n",
       " 'Hyundai': 'Korea',\n",
       " 'Honda': 'Japan',\n",
       " 'Mercedes-Benz': 'Germany',\n",
       " 'Cadillac': 'USA',\n",
       " 'Chevrolet': 'USA',\n",
       " 'Dodge': 'USA',\n",
       " 'Lamborghini': 'Italy',\n",
       " 'Bentley': 'UK',\n",
       " 'Volkswagen': 'Germany',\n",
       " 'Subaru': 'Japan',\n",
       " 'Ford': 'USA',\n",
       " 'Volvo': 'Sweden',\n",
       " 'Kia': 'Korea',\n",
       " 'Lincoln': 'USA',\n",
       " 'Lexus': 'Japan',\n",
       " 'Rolls-Royce': 'UK',\n",
       " 'Aston Martin': 'UK',\n",
       " 'Land Rover': 'UK',\n",
       " 'Mitsubishi': 'Japan',\n",
       " 'Lotus': 'UK',\n",
       " 'Buick': 'USA',\n",
       " 'Infiniti': 'Japan',\n",
       " 'Scion': 'Japan',\n",
       " 'Genesis': 'Korea',\n",
       " 'Maserati': 'Italy',\n",
       " 'Suzuki': 'Japan',\n",
       " 'HUMMER': 'USA',\n",
       " 'Acura': 'Japan',\n",
       " 'Pontiac': 'USA'}"
      ]
     },
     "execution_count": 30,
     "metadata": {},
     "output_type": "execute_result"
    }
   ],
   "source": [
    "make_origin_dict"
   ]
  },
  {
   "cell_type": "markdown",
   "metadata": {},
   "source": [
    "split the attributes in the column market catergory to seperate columns"
   ]
  },
  {
   "cell_type": "code",
   "execution_count": 31,
   "metadata": {},
   "outputs": [
    {
     "name": "stderr",
     "output_type": "stream",
     "text": [
      "/Users/Erica/flatiron/mod_5/mod_5_project/car-classification-using-machine-learning/functions.py:16: SettingWithCopyWarning: \n",
      "A value is trying to be set on a copy of a slice from a DataFrame.\n",
      "Try using .loc[row_indexer,col_indexer] = value instead\n",
      "\n",
      "See the caveats in the documentation: http://pandas.pydata.org/pandas-docs/stable/indexing.html#indexing-view-versus-copy\n",
      "  df[col] = df['Market Category'].apply(lambda x: 1 if col in x.split(',') else 0)\n",
      "/Users/Erica/anaconda3/envs/learn-env/lib/python3.6/site-packages/pandas/core/frame.py:3697: SettingWithCopyWarning: \n",
      "A value is trying to be set on a copy of a slice from a DataFrame\n",
      "\n",
      "See the caveats in the documentation: http://pandas.pydata.org/pandas-docs/stable/indexing.html#indexing-view-versus-copy\n",
      "  errors=errors)\n"
     ]
    }
   ],
   "source": [
    "car_df1 = fn.market_columns(car_df1)"
   ]
  },
  {
   "cell_type": "code",
   "execution_count": 32,
   "metadata": {},
   "outputs": [
    {
     "name": "stderr",
     "output_type": "stream",
     "text": [
      "/Users/Erica/anaconda3/envs/learn-env/lib/python3.6/site-packages/pandas/core/frame.py:3697: SettingWithCopyWarning: \n",
      "A value is trying to be set on a copy of a slice from a DataFrame\n",
      "\n",
      "See the caveats in the documentation: http://pandas.pydata.org/pandas-docs/stable/indexing.html#indexing-view-versus-copy\n",
      "  errors=errors)\n"
     ]
    }
   ],
   "source": [
    "car_df1.drop(columns='Number of Doors', axis=1, inplace=True)"
   ]
  },
  {
   "cell_type": "code",
   "execution_count": 33,
   "metadata": {},
   "outputs": [
    {
     "name": "stdout",
     "output_type": "stream",
     "text": [
      "<class 'pandas.core.frame.DataFrame'>\n",
      "Int64Index: 5978 entries, 0 to 11912\n",
      "Data columns (total 24 columns):\n",
      "Make                 5978 non-null object\n",
      "Model                5978 non-null object\n",
      "Year                 5978 non-null int64\n",
      "Engine Fuel Type     5978 non-null object\n",
      "Engine HP            5978 non-null float64\n",
      "Engine Cylinders     5978 non-null float64\n",
      "Transmission Type    5978 non-null object\n",
      "Driven_Wheels        5978 non-null object\n",
      "Vehicle Size         5978 non-null object\n",
      "Vehicle Style        5978 non-null object\n",
      "highway MPG          5978 non-null int64\n",
      "city mpg             5978 non-null int64\n",
      "Popularity           5978 non-null int64\n",
      "MSRP                 5978 non-null int64\n",
      "High-Performance     5978 non-null int64\n",
      "Exotic               5978 non-null int64\n",
      "Crossover            5978 non-null int64\n",
      "Flex Fuel            5978 non-null int64\n",
      "Factory Tuner        5978 non-null int64\n",
      "Performance          5978 non-null int64\n",
      "Luxury               5978 non-null int64\n",
      "Hatchback            5978 non-null int64\n",
      "Diesel               5978 non-null int64\n",
      "Hybrid               5978 non-null int64\n",
      "dtypes: float64(2), int64(15), object(7)\n",
      "memory usage: 1.1+ MB\n"
     ]
    }
   ],
   "source": [
    "car_df1.info()"
   ]
  },
  {
   "cell_type": "code",
   "execution_count": 34,
   "metadata": {},
   "outputs": [
    {
     "data": {
      "text/plain": [
       "4dr SUV                1816\n",
       "Sedan                  1401\n",
       "Coupe                   667\n",
       "4dr Hatchback           557\n",
       "Convertible             455\n",
       "Crew Cab Pickup         260\n",
       "Wagon                   225\n",
       "2dr Hatchback           189\n",
       "Extended Cab Pickup     119\n",
       "Regular Cab Pickup      105\n",
       "Passenger Van           100\n",
       "Passenger Minivan        38\n",
       "Cargo Van                34\n",
       "2dr SUV                   6\n",
       "Convertible SUV           5\n",
       "Cargo Minivan             1\n",
       "Name: Vehicle Style, dtype: int64"
      ]
     },
     "execution_count": 34,
     "metadata": {},
     "output_type": "execute_result"
    }
   ],
   "source": [
    "car_df1['Vehicle Style'].value_counts()"
   ]
  },
  {
   "cell_type": "code",
   "execution_count": 35,
   "metadata": {},
   "outputs": [],
   "source": [
    "car_df1 = car_df1.loc[(car_df1['Vehicle Style'] != '2dr SUV') \n",
    "                      & (car_df1['Vehicle Style'] != 'Convertible SUV') &\n",
    "         (car_df1['Vehicle Style'] != 'Cargo Minivan')]"
   ]
  },
  {
   "cell_type": "code",
   "execution_count": 36,
   "metadata": {},
   "outputs": [
    {
     "data": {
      "text/plain": [
       "front wheel drive    1944\n",
       "all wheel drive      1841\n",
       "rear wheel drive     1679\n",
       "four wheel drive      502\n",
       "Name: Driven_Wheels, dtype: int64"
      ]
     },
     "execution_count": 36,
     "metadata": {},
     "output_type": "execute_result"
    }
   ],
   "source": [
    "car_df1['Driven_Wheels'].value_counts()"
   ]
  },
  {
   "cell_type": "code",
   "execution_count": 37,
   "metadata": {
    "scrolled": true
   },
   "outputs": [
    {
     "name": "stdout",
     "output_type": "stream",
     "text": [
      "<class 'pandas.core.frame.DataFrame'>\n",
      "Int64Index: 5966 entries, 0 to 11912\n",
      "Data columns (total 24 columns):\n",
      "Make                 5966 non-null object\n",
      "Model                5966 non-null object\n",
      "Year                 5966 non-null int64\n",
      "Engine Fuel Type     5966 non-null object\n",
      "Engine HP            5966 non-null float64\n",
      "Engine Cylinders     5966 non-null float64\n",
      "Transmission Type    5966 non-null object\n",
      "Driven_Wheels        5966 non-null object\n",
      "Vehicle Size         5966 non-null object\n",
      "Vehicle Style        5966 non-null object\n",
      "highway MPG          5966 non-null int64\n",
      "city mpg             5966 non-null int64\n",
      "Popularity           5966 non-null int64\n",
      "MSRP                 5966 non-null int64\n",
      "High-Performance     5966 non-null int64\n",
      "Exotic               5966 non-null int64\n",
      "Crossover            5966 non-null int64\n",
      "Flex Fuel            5966 non-null int64\n",
      "Factory Tuner        5966 non-null int64\n",
      "Performance          5966 non-null int64\n",
      "Luxury               5966 non-null int64\n",
      "Hatchback            5966 non-null int64\n",
      "Diesel               5966 non-null int64\n",
      "Hybrid               5966 non-null int64\n",
      "dtypes: float64(2), int64(15), object(7)\n",
      "memory usage: 1.1+ MB\n"
     ]
    }
   ],
   "source": [
    "car_df1.info()"
   ]
  },
  {
   "cell_type": "code",
   "execution_count": 38,
   "metadata": {},
   "outputs": [],
   "source": [
    "car_df1['Origin'] = car_df1['Make'].apply(lambda m: make_origin_dict[m])"
   ]
  },
  {
   "cell_type": "code",
   "execution_count": 39,
   "metadata": {},
   "outputs": [],
   "source": [
    "car_df1.drop(['Make', 'Model'], axis=1, inplace=True)"
   ]
  },
  {
   "cell_type": "code",
   "execution_count": 40,
   "metadata": {},
   "outputs": [],
   "source": [
    "X = car_df1.drop('Origin', axis=1)\n",
    "y = car_df1['Origin']"
   ]
  },
  {
   "cell_type": "code",
   "execution_count": 41,
   "metadata": {},
   "outputs": [
    {
     "data": {
      "text/plain": [
       "0        Germany\n",
       "1        Germany\n",
       "2        Germany\n",
       "3        Germany\n",
       "4        Germany\n",
       "5        Germany\n",
       "6        Germany\n",
       "7        Germany\n",
       "8        Germany\n",
       "9        Germany\n",
       "10       Germany\n",
       "11       Germany\n",
       "12       Germany\n",
       "13       Germany\n",
       "15       Germany\n",
       "16       Germany\n",
       "32         Italy\n",
       "33         Italy\n",
       "34         Italy\n",
       "41       Germany\n",
       "42       Germany\n",
       "43       Germany\n",
       "44       Germany\n",
       "45       Germany\n",
       "46       Germany\n",
       "47       Germany\n",
       "48       Germany\n",
       "49       Germany\n",
       "50       Germany\n",
       "51       Germany\n",
       "          ...   \n",
       "11865        USA\n",
       "11866        USA\n",
       "11869        USA\n",
       "11870        USA\n",
       "11871        USA\n",
       "11872        USA\n",
       "11873        USA\n",
       "11874        USA\n",
       "11875        USA\n",
       "11876        USA\n",
       "11877        USA\n",
       "11878        USA\n",
       "11879        USA\n",
       "11880        USA\n",
       "11894    Germany\n",
       "11895    Germany\n",
       "11896    Germany\n",
       "11897    Germany\n",
       "11898    Germany\n",
       "11899    Germany\n",
       "11900    Germany\n",
       "11901    Germany\n",
       "11902    Germany\n",
       "11906      Japan\n",
       "11907      Japan\n",
       "11908      Japan\n",
       "11909      Japan\n",
       "11910      Japan\n",
       "11911      Japan\n",
       "11912      Japan\n",
       "Name: Origin, Length: 5966, dtype: object"
      ]
     },
     "execution_count": 41,
     "metadata": {},
     "output_type": "execute_result"
    }
   ],
   "source": [
    "y"
   ]
  },
  {
   "cell_type": "code",
   "execution_count": 42,
   "metadata": {},
   "outputs": [],
   "source": [
    "X_train, X_test, y_train, y_test = train_test_split(X, y, test_size=0.25, random_state=42)"
   ]
  },
  {
   "cell_type": "code",
   "execution_count": 43,
   "metadata": {},
   "outputs": [],
   "source": [
    "# Create train and test dataframes with only the categorical variables\n",
    "\n",
    "X_train_obj = X_train[[col for col,dtype in list(zip(X_train.columns, X_train.dtypes)) \n",
    "                          if dtype == np.dtype('O')]]\n",
    "X_test_obj = X_test[[col for col,dtype in list(zip(X_test.columns, X_test.dtypes)) \n",
    "                        if dtype == np.dtype('O')]]"
   ]
  },
  {
   "cell_type": "code",
   "execution_count": 44,
   "metadata": {},
   "outputs": [],
   "source": [
    "X_train_nonobj = X_train[[col for col,dtype in list(zip(X_train.columns, X_train.dtypes)) \n",
    "                          if dtype != np.dtype('O')]]\n",
    "X_test_nonobj = X_test[[col for col,dtype in list(zip(X_test.columns, X_test.dtypes)) \n",
    "                        if dtype != np.dtype('O')]]"
   ]
  },
  {
   "cell_type": "code",
   "execution_count": 45,
   "metadata": {},
   "outputs": [],
   "source": [
    "ohe = OneHotEncoder(handle_unknown='ignore')\n",
    "X_train_obj_ohe = ohe.fit_transform(X_train_obj)\n",
    "X_test_obj_ohe = ohe.transform(X_test_obj)"
   ]
  },
  {
   "cell_type": "code",
   "execution_count": 46,
   "metadata": {},
   "outputs": [],
   "source": [
    "X_train_nonobj_df = pd.DataFrame(X_train_nonobj).reset_index(drop=True) \n",
    "X_train_obj_ohe_df = pd.DataFrame(X_train_obj_ohe.todense(), columns=ohe.get_feature_names()).reset_index(drop=True)"
   ]
  },
  {
   "cell_type": "code",
   "execution_count": 47,
   "metadata": {},
   "outputs": [],
   "source": [
    "X_train_all = pd.concat([X_train_nonobj_df, X_train_obj_ohe_df], axis=1)"
   ]
  },
  {
   "cell_type": "code",
   "execution_count": 48,
   "metadata": {},
   "outputs": [],
   "source": [
    "X_test_nonobj_df = pd.DataFrame(X_test_nonobj).reset_index(drop=True) \n",
    "X_test_obj_ohe_df = pd.DataFrame(X_test_obj_ohe.todense(), columns=ohe.get_feature_names()).reset_index(drop=True)"
   ]
  },
  {
   "cell_type": "code",
   "execution_count": 52,
   "metadata": {},
   "outputs": [],
   "source": [
    "X_test_all = pd.concat([X_test_nonobj_df, X_test_obj_ohe_df], axis=1)"
   ]
  },
  {
   "cell_type": "code",
   "execution_count": 54,
   "metadata": {},
   "outputs": [
    {
     "data": {
      "text/plain": [
       "(4474, 49)"
      ]
     },
     "execution_count": 54,
     "metadata": {},
     "output_type": "execute_result"
    }
   ],
   "source": [
    "X_train_all.shape"
   ]
  },
  {
   "cell_type": "code",
   "execution_count": 55,
   "metadata": {},
   "outputs": [
    {
     "data": {
      "text/plain": [
       "(1492, 49)"
      ]
     },
     "execution_count": 55,
     "metadata": {},
     "output_type": "execute_result"
    }
   ],
   "source": [
    "X_test_all.shape"
   ]
  },
  {
   "cell_type": "code",
   "execution_count": 56,
   "metadata": {},
   "outputs": [],
   "source": [
    "origins = list(set(make_origin_dict.values()))\n",
    "\n",
    "origin_code = {}\n",
    "for i in range(len(origins)):\n",
    "    origin_code[origins[i]] = i\n",
    "\n",
    "y_train = y_train.apply(lambda x: origin_code[x])\n",
    "y_test = y_test.apply(lambda x: origin_code[x])"
   ]
  },
  {
   "cell_type": "code",
   "execution_count": null,
   "metadata": {},
   "outputs": [],
   "source": [
    "# origins = list(set(make_origin_dict.values()))\n",
    "\n",
    "# origin_code = {}\n",
    "# for i in range(len(origins)):\n",
    "#     origin_code[origins[i]] = i\n",
    "# origin_code\n",
    "\n",
    "# car_df1['origin_code'] = car_df1['Origin'].apply(lambda x: origin_code[x])\n",
    "# car_df1.drop(columns='Origin', axis=1, inplace=True)"
   ]
  },
  {
   "cell_type": "code",
   "execution_count": null,
   "metadata": {},
   "outputs": [],
   "source": [
    "# X_train_all = pd.concat([pd.DataFrame(X_train_nonobj), pd.DataFrame(X_train_obj_ohe.todense(), columns=ohe.get_feature_names())], axis=1)\n",
    "# X_test_all = pd.concat([pd.DataFrame(X_test_nonobj), pd.DataFrame(X_test_obj_ohe.todense(), columns=ohe.get_feature_names())], axis=1)"
   ]
  },
  {
   "cell_type": "code",
   "execution_count": null,
   "metadata": {},
   "outputs": [],
   "source": [
    "# cat_features = ['Engine Fuel Type', 'Transmission Type', 'Driven_Wheels', 'Vehicle Size', 'Vehicle Style']\n",
    "# cat_index=[]\n",
    "# for ind, val in enumerate(X_train.columns):\n",
    "#     #print(ind, val)\n",
    "#     if val in cat_features:\n",
    "#         cat_index.append(ind)"
   ]
  },
  {
   "cell_type": "code",
   "execution_count": null,
   "metadata": {},
   "outputs": [],
   "source": [
    "# X_train_df = pd.DataFrame(X_train_ohe.todense(), columns=ohe.get_feature_names())\n",
    "# X_train_df.columns"
   ]
  }
 ],
 "metadata": {
  "kernelspec": {
   "display_name": "Python [conda env:learn-env] *",
   "language": "python",
   "name": "conda-env-learn-env-py"
  },
  "language_info": {
   "codemirror_mode": {
    "name": "ipython",
    "version": 3
   },
   "file_extension": ".py",
   "mimetype": "text/x-python",
   "name": "python",
   "nbconvert_exporter": "python",
   "pygments_lexer": "ipython3",
   "version": "3.6.6"
  }
 },
 "nbformat": 4,
 "nbformat_minor": 2
}
